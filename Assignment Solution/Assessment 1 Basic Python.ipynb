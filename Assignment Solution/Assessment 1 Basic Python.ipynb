{
 "cells": [
  {
   "cell_type": "markdown",
   "id": "f15c2d10",
   "metadata": {},
   "source": [
    "## Prime Numbers"
   ]
  },
  {
   "cell_type": "code",
   "execution_count": 2,
   "id": "030e4ea4",
   "metadata": {},
   "outputs": [
    {
     "name": "stdout",
     "output_type": "stream",
     "text": [
      "6 is not prime number\n"
     ]
    }
   ],
   "source": [
    "import sympy ## For  prime numbers\n",
    "number=int(input('Enter the number:'))\n",
    "if sympy.isprime(number):                \n",
    "    print(f'{number} is prime number')    \n",
    "else:\n",
    "    print(f'{number} is not prime number')"
   ]
  },
  {
   "cell_type": "code",
   "execution_count": 3,
   "id": "6902d8cf",
   "metadata": {},
   "outputs": [
    {
     "name": "stdout",
     "output_type": "stream",
     "text": [
      "7 is prime number\n"
     ]
    }
   ],
   "source": [
    "number= int(input('Enter the Number:'))\n",
    "if sympy.isprime(number):\n",
    "    print(f'{number} is prime number')\n",
    "else:\n",
    "    print(f'{number} is not prime number')"
   ]
  },
  {
   "cell_type": "code",
   "execution_count": 5,
   "id": "0cc99ad1",
   "metadata": {},
   "outputs": [
    {
     "data": {
      "text/plain": [
       "True"
      ]
     },
     "execution_count": 5,
     "metadata": {},
     "output_type": "execute_result"
    }
   ],
   "source": [
    "sympy.isprime(2)"
   ]
  },
  {
   "cell_type": "markdown",
   "id": "bd1d4839",
   "metadata": {},
   "source": [
    "## product of 2 random numbers"
   ]
  },
  {
   "cell_type": "code",
   "execution_count": 8,
   "id": "6781c1ef",
   "metadata": {},
   "outputs": [
    {
     "name": "stdout",
     "output_type": "stream",
     "text": [
      "generated number1: 7\n",
      "generated number2: 1\n",
      "product result: 7\n"
     ]
    }
   ],
   "source": [
    "import random                    # import the random function\n",
    "number1=random.randint(0,10)        # taking the random variable between 0-10\n",
    "number2=random.randint(0,10)\n",
    "print(\"generated number1:\",number1)\n",
    "print(\"generated number2:\",number2)\n",
    "prod= number1 * number2           # Multification of 2 Nos\n",
    "print(\"product result:\",prod) "
   ]
  },
  {
   "cell_type": "markdown",
   "id": "b625d6e8",
   "metadata": {},
   "source": [
    "## Squares of Odd/Even numbers"
   ]
  },
  {
   "cell_type": "code",
   "execution_count": 18,
   "id": "4046b104",
   "metadata": {},
   "outputs": [
    {
     "data": {
      "text/plain": [
       "'number is odd'"
      ]
     },
     "execution_count": 18,
     "metadata": {},
     "output_type": "execute_result"
    }
   ],
   "source": [
    "def func(num):\n",
    "    if num%2==0:\n",
    "        return 'number is even'\n",
    "    else:\n",
    "        return 'number is odd'\n",
    "    \n",
    "func(25)\n",
    "        "
   ]
  },
  {
   "cell_type": "code",
   "execution_count": 19,
   "id": "d4c27048",
   "metadata": {},
   "outputs": [
    {
     "name": "stdout",
     "output_type": "stream",
     "text": [
      "Even Square: 10000\n",
      "Odd Square: 10201\n",
      "Even Square: 10404\n",
      "Odd Square: 10609\n",
      "Even Square: 10816\n",
      "Odd Square: 11025\n",
      "Even Square: 11236\n",
      "Odd Square: 11449\n",
      "Even Square: 11664\n",
      "Odd Square: 11881\n",
      "Even Square: 12100\n",
      "Odd Square: 12321\n",
      "Even Square: 12544\n",
      "Odd Square: 12769\n",
      "Even Square: 12996\n",
      "Odd Square: 13225\n",
      "Even Square: 13456\n",
      "Odd Square: 13689\n",
      "Even Square: 13924\n",
      "Odd Square: 14161\n",
      "Even Square: 14400\n",
      "Odd Square: 14641\n",
      "Even Square: 14884\n",
      "Odd Square: 15129\n",
      "Even Square: 15376\n",
      "Odd Square: 15625\n",
      "Even Square: 15876\n",
      "Odd Square: 16129\n",
      "Even Square: 16384\n",
      "Odd Square: 16641\n",
      "Even Square: 16900\n",
      "Odd Square: 17161\n",
      "Even Square: 17424\n",
      "Odd Square: 17689\n",
      "Even Square: 17956\n",
      "Odd Square: 18225\n",
      "Even Square: 18496\n",
      "Odd Square: 18769\n",
      "Even Square: 19044\n",
      "Odd Square: 19321\n",
      "Even Square: 19600\n",
      "Odd Square: 19881\n",
      "Even Square: 20164\n",
      "Odd Square: 20449\n",
      "Even Square: 20736\n",
      "Odd Square: 21025\n",
      "Even Square: 21316\n",
      "Odd Square: 21609\n",
      "Even Square: 21904\n",
      "Odd Square: 22201\n",
      "Even Square: 22500\n",
      "Odd Square: 22801\n",
      "Even Square: 23104\n",
      "Odd Square: 23409\n",
      "Even Square: 23716\n",
      "Odd Square: 24025\n",
      "Even Square: 24336\n",
      "Odd Square: 24649\n",
      "Even Square: 24964\n",
      "Odd Square: 25281\n",
      "Even Square: 25600\n",
      "Odd Square: 25921\n",
      "Even Square: 26244\n",
      "Odd Square: 26569\n",
      "Even Square: 26896\n",
      "Odd Square: 27225\n",
      "Even Square: 27556\n",
      "Odd Square: 27889\n",
      "Even Square: 28224\n",
      "Odd Square: 28561\n",
      "Even Square: 28900\n",
      "Odd Square: 29241\n",
      "Even Square: 29584\n",
      "Odd Square: 29929\n",
      "Even Square: 30276\n",
      "Odd Square: 30625\n",
      "Even Square: 30976\n",
      "Odd Square: 31329\n",
      "Even Square: 31684\n",
      "Odd Square: 32041\n",
      "Even Square: 32400\n",
      "Odd Square: 32761\n",
      "Even Square: 33124\n",
      "Odd Square: 33489\n",
      "Even Square: 33856\n",
      "Odd Square: 34225\n",
      "Even Square: 34596\n",
      "Odd Square: 34969\n",
      "Even Square: 35344\n",
      "Odd Square: 35721\n",
      "Even Square: 36100\n",
      "Odd Square: 36481\n",
      "Even Square: 36864\n",
      "Odd Square: 37249\n",
      "Even Square: 37636\n",
      "Odd Square: 38025\n",
      "Even Square: 38416\n",
      "Odd Square: 38809\n",
      "Even Square: 39204\n",
      "Odd Square: 39601\n"
     ]
    }
   ],
   "source": [
    "odd=[0]\n",
    "even=[0]                             #Initilazing Even&odd from '0' \n",
    "for n in range (100,200):            # given range\n",
    "    if n%2==0:                      # divisable by 0 then it is even otherwise it is odd\n",
    "        even=n**2\n",
    "        print(\"Even Square:\",even)\n",
    "    else:\n",
    "        odd=n**2\n",
    "        print(\"Odd Square:\",odd)"
   ]
  },
  {
   "cell_type": "code",
   "execution_count": 21,
   "id": "8ccd4224",
   "metadata": {},
   "outputs": [
    {
     "name": "stdout",
     "output_type": "stream",
     "text": [
      "Even Square: 10000\n",
      "Odd Square: 10201\n",
      "Even Square: 10404\n",
      "Odd Square: 10609\n",
      "Even Square: 10816\n",
      "Odd Square: 11025\n",
      "Even Square: 11236\n",
      "Odd Square: 11449\n",
      "Even Square: 11664\n",
      "Odd Square: 11881\n",
      "Even Square: 12100\n",
      "Odd Square: 12321\n",
      "Even Square: 12544\n",
      "Odd Square: 12769\n",
      "Even Square: 12996\n",
      "Odd Square: 13225\n",
      "Even Square: 13456\n",
      "Odd Square: 13689\n",
      "Even Square: 13924\n",
      "Odd Square: 14161\n",
      "Even Square: 14400\n",
      "Odd Square: 14641\n",
      "Even Square: 14884\n",
      "Odd Square: 15129\n",
      "Even Square: 15376\n",
      "Odd Square: 15625\n",
      "Even Square: 15876\n",
      "Odd Square: 16129\n",
      "Even Square: 16384\n",
      "Odd Square: 16641\n",
      "Even Square: 16900\n",
      "Odd Square: 17161\n",
      "Even Square: 17424\n",
      "Odd Square: 17689\n",
      "Even Square: 17956\n",
      "Odd Square: 18225\n",
      "Even Square: 18496\n",
      "Odd Square: 18769\n",
      "Even Square: 19044\n",
      "Odd Square: 19321\n",
      "Even Square: 19600\n",
      "Odd Square: 19881\n",
      "Even Square: 20164\n",
      "Odd Square: 20449\n",
      "Even Square: 20736\n",
      "Odd Square: 21025\n",
      "Even Square: 21316\n",
      "Odd Square: 21609\n",
      "Even Square: 21904\n",
      "Odd Square: 22201\n",
      "Even Square: 22500\n",
      "Odd Square: 22801\n",
      "Even Square: 23104\n",
      "Odd Square: 23409\n",
      "Even Square: 23716\n",
      "Odd Square: 24025\n",
      "Even Square: 24336\n",
      "Odd Square: 24649\n",
      "Even Square: 24964\n",
      "Odd Square: 25281\n",
      "Even Square: 25600\n",
      "Odd Square: 25921\n",
      "Even Square: 26244\n",
      "Odd Square: 26569\n",
      "Even Square: 26896\n",
      "Odd Square: 27225\n",
      "Even Square: 27556\n",
      "Odd Square: 27889\n",
      "Even Square: 28224\n",
      "Odd Square: 28561\n",
      "Even Square: 28900\n",
      "Odd Square: 29241\n",
      "Even Square: 29584\n",
      "Odd Square: 29929\n",
      "Even Square: 30276\n",
      "Odd Square: 30625\n",
      "Even Square: 30976\n",
      "Odd Square: 31329\n",
      "Even Square: 31684\n",
      "Odd Square: 32041\n",
      "Even Square: 32400\n",
      "Odd Square: 32761\n",
      "Even Square: 33124\n",
      "Odd Square: 33489\n",
      "Even Square: 33856\n",
      "Odd Square: 34225\n",
      "Even Square: 34596\n",
      "Odd Square: 34969\n",
      "Even Square: 35344\n",
      "Odd Square: 35721\n",
      "Even Square: 36100\n",
      "Odd Square: 36481\n",
      "Even Square: 36864\n",
      "Odd Square: 37249\n",
      "Even Square: 37636\n",
      "Odd Square: 38025\n",
      "Even Square: 38416\n",
      "Odd Square: 38809\n",
      "Even Square: 39204\n",
      "Odd Square: 39601\n"
     ]
    }
   ],
   "source": [
    "odd=[0]\n",
    "even=[0]\n",
    "for n in range (100,200):\n",
    "        if n%2==0:\n",
    "            even=n**2\n",
    "        else:\n",
    "            odd=n**2\n",
    "            print(\"Even Square:\",even)\n",
    "            print(\"Odd Square:\",odd)"
   ]
  },
  {
   "cell_type": "markdown",
   "id": "39c23319",
   "metadata": {},
   "source": [
    "## Word Counter"
   ]
  },
  {
   "cell_type": "code",
   "execution_count": 79,
   "id": "3e93a84e",
   "metadata": {},
   "outputs": [
    {
     "data": {
      "text/plain": [
       "2"
      ]
     },
     "execution_count": 79,
     "metadata": {},
     "output_type": "execute_result"
    }
   ],
   "source": [
    "str=\"This is a sample text. This text will be used to demonstrate the word counter\"\n",
    "str.count('This')"
   ]
  },
  {
   "cell_type": "code",
   "execution_count": 80,
   "id": "5c60ee54",
   "metadata": {},
   "outputs": [
    {
     "data": {
      "text/plain": [
       "1"
      ]
     },
     "execution_count": 80,
     "metadata": {},
     "output_type": "execute_result"
    }
   ],
   "source": [
    "str.count('is',4,7)  # By using index"
   ]
  },
  {
   "cell_type": "code",
   "execution_count": 81,
   "id": "03e22b9c",
   "metadata": {},
   "outputs": [
    {
     "data": {
      "text/plain": [
       "1"
      ]
     },
     "execution_count": 81,
     "metadata": {},
     "output_type": "execute_result"
    }
   ],
   "source": [
    "str.count('a',4,9)   # By using index"
   ]
  },
  {
   "cell_type": "code",
   "execution_count": 24,
   "id": "a0dc4fba",
   "metadata": {},
   "outputs": [
    {
     "name": "stdout",
     "output_type": "stream",
     "text": [
      "Enter the string:This is a sample text. This text will be used to demonstrate the word counter\n",
      "{'This': 2, 'is': 1, 'a': 1, 'sample': 1, 'text.': 1, 'text': 1, 'will': 1, 'be': 1, 'used': 1, 'to': 1, 'demonstrate': 1, 'the': 1, 'word': 1, 'counter': 1}\n"
     ]
    }
   ],
   "source": [
    "s=input (\"Enter the string:\")   #This is a sample text. This text will be used to demonstrate the word counter\"\n",
    "words= str.split()     # split the str\n",
    "counts={}              # count the empty dict\n",
    "for i in words:        # Loop using in words\n",
    "    if i in counts:\n",
    "        counts[i]+=1   # incrementing the count vlaue\n",
    "    else:\n",
    "          counts[i]=1\n",
    "print (counts)\n",
    "            "
   ]
  },
  {
   "cell_type": "code",
   "execution_count": 23,
   "id": "ef327e0e",
   "metadata": {},
   "outputs": [
    {
     "name": "stdout",
     "output_type": "stream",
     "text": [
      "{'This': 2, 'is': 1, 'a': 1, 'sample': 1, 'text.': 1, 'text': 1, 'will': 1, 'be': 1, 'used': 1, 'to': 1, 'demonstrate': 1, 'the': 1, 'word': 1, 'counter': 1}\n"
     ]
    }
   ],
   "source": [
    "str=\"This is a sample text. This text will be used to demonstrate the word counter\"\n",
    "sent=str.split()  # split the str\n",
    "counts={}          # empty dict count\n",
    "for i in sent:    # loop using in word\n",
    "    if i in counts:    #if word is in empty dictionary \n",
    "        counts [i]+=1  # increamenting the count value\n",
    "    else:\n",
    "            counts [i]=1\n",
    "print(counts)"
   ]
  },
  {
   "cell_type": "markdown",
   "id": "89256bc9",
   "metadata": {},
   "source": [
    "## palindrome"
   ]
  },
  {
   "cell_type": "code",
   "execution_count": 22,
   "id": "962ecbd5",
   "metadata": {},
   "outputs": [
    {
     "name": "stdout",
     "output_type": "stream",
     "text": [
      "Enter the string:racecar\n",
      "True:\n"
     ]
    }
   ],
   "source": [
    "s=input(\"Enter the string:\")\n",
    "reverse=s[::-1]            #-1 Reverse the string\n",
    "if(s==reverse):          # use the condition statement\n",
    "    print(\"True:\")\n",
    "else:\n",
    "    print(\"False:\")"
   ]
  }
 ],
 "metadata": {
  "kernelspec": {
   "display_name": "Python 3 (ipykernel)",
   "language": "python",
   "name": "python3"
  },
  "language_info": {
   "codemirror_mode": {
    "name": "ipython",
    "version": 3
   },
   "file_extension": ".py",
   "mimetype": "text/x-python",
   "name": "python",
   "nbconvert_exporter": "python",
   "pygments_lexer": "ipython3",
   "version": "3.9.6"
  }
 },
 "nbformat": 4,
 "nbformat_minor": 5
}
